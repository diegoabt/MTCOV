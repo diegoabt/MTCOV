{
 "cells": [
  {
   "cell_type": "markdown",
   "metadata": {},
   "source": [
    "# Extract optimal hyperparameters ($C$, $\\gamma$) with cross-validation tests.\n",
    "Jupyter Notebook for analysing the results of the held-out tests  performed using the file `main_cv_single_real.py` (and optional `run_cv.sh`). \n",
    "\n",
    "We performed prediction tasks using cross-validation with 80-20 splits: we use 80% of the data for training the parameters and then measure AUC and accuracy on the remaining 20% test set. Specifically, for the network topology, we hold out 20% of the triples $(\\alpha, i, j)$; for the attributes, we hold out 20% of the entries of the categorical vector.  \n",
    "To improve performance, set `N_real` to a higher number (results were obtained with `N_real=1`). This will slow down the algorithm, but will find a solution with higher loglikelihood (in the training).\n"
   ]
  },
  {
   "cell_type": "code",
   "execution_count": 1,
   "metadata": {},
   "outputs": [],
   "source": [
    "# import modules\n",
    "import numpy as np\n",
    "import pandas as pd\n",
    "import matplotlib.pyplot as plt"
   ]
  },
  {
   "cell_type": "code",
   "execution_count": 2,
   "metadata": {},
   "outputs": [
    {
     "name": "stdout",
     "output_type": "stream",
     "text": [
      "Shape: (45, 10)\n"
     ]
    },
    {
     "data": {
      "text/html": [
       "<div>\n",
       "<style scoped>\n",
       "    .dataframe tbody tr th:only-of-type {\n",
       "        vertical-align: middle;\n",
       "    }\n",
       "\n",
       "    .dataframe tbody tr th {\n",
       "        vertical-align: top;\n",
       "    }\n",
       "\n",
       "    .dataframe thead th {\n",
       "        text-align: right;\n",
       "    }\n",
       "</style>\n",
       "<table border=\"1\" class=\"dataframe\">\n",
       "  <thead>\n",
       "    <tr style=\"text-align: right;\">\n",
       "      <th></th>\n",
       "      <th>C</th>\n",
       "      <th>gamma</th>\n",
       "      <th>fold</th>\n",
       "      <th>rseed</th>\n",
       "      <th>logL</th>\n",
       "      <th>acc_train</th>\n",
       "      <th>auc_train</th>\n",
       "      <th>logL_test</th>\n",
       "      <th>acc_test</th>\n",
       "      <th>auc_test</th>\n",
       "    </tr>\n",
       "  </thead>\n",
       "  <tbody>\n",
       "    <tr>\n",
       "      <td>0</td>\n",
       "      <td>2</td>\n",
       "      <td>0.3</td>\n",
       "      <td>0</td>\n",
       "      <td>107261</td>\n",
       "      <td>-11651.372</td>\n",
       "      <td>0.754167</td>\n",
       "      <td>0.781423</td>\n",
       "      <td>-2943.445578</td>\n",
       "      <td>0.750000</td>\n",
       "      <td>0.745423</td>\n",
       "    </tr>\n",
       "    <tr>\n",
       "      <td>1</td>\n",
       "      <td>2</td>\n",
       "      <td>0.3</td>\n",
       "      <td>1</td>\n",
       "      <td>107262</td>\n",
       "      <td>-11819.517</td>\n",
       "      <td>0.758333</td>\n",
       "      <td>0.781323</td>\n",
       "      <td>-2778.026148</td>\n",
       "      <td>0.750000</td>\n",
       "      <td>0.741167</td>\n",
       "    </tr>\n",
       "    <tr>\n",
       "      <td>2</td>\n",
       "      <td>2</td>\n",
       "      <td>0.3</td>\n",
       "      <td>2</td>\n",
       "      <td>107263</td>\n",
       "      <td>-11851.797</td>\n",
       "      <td>0.770833</td>\n",
       "      <td>0.775263</td>\n",
       "      <td>-2839.125554</td>\n",
       "      <td>0.700000</td>\n",
       "      <td>0.744381</td>\n",
       "    </tr>\n",
       "    <tr>\n",
       "      <td>3</td>\n",
       "      <td>2</td>\n",
       "      <td>0.3</td>\n",
       "      <td>3</td>\n",
       "      <td>107264</td>\n",
       "      <td>-11806.609</td>\n",
       "      <td>0.745833</td>\n",
       "      <td>0.780124</td>\n",
       "      <td>-2820.854597</td>\n",
       "      <td>0.783333</td>\n",
       "      <td>0.760038</td>\n",
       "    </tr>\n",
       "    <tr>\n",
       "      <td>4</td>\n",
       "      <td>2</td>\n",
       "      <td>0.3</td>\n",
       "      <td>4</td>\n",
       "      <td>107265</td>\n",
       "      <td>-11693.336</td>\n",
       "      <td>0.754167</td>\n",
       "      <td>0.781428</td>\n",
       "      <td>-2862.833337</td>\n",
       "      <td>0.750000</td>\n",
       "      <td>0.754834</td>\n",
       "    </tr>\n",
       "  </tbody>\n",
       "</table>\n",
       "</div>"
      ],
      "text/plain": [
       "   C  gamma  fold   rseed       logL  acc_train  auc_train    logL_test  \\\n",
       "0  2    0.3     0  107261 -11651.372   0.754167   0.781423 -2943.445578   \n",
       "1  2    0.3     1  107262 -11819.517   0.758333   0.781323 -2778.026148   \n",
       "2  2    0.3     2  107263 -11851.797   0.770833   0.775263 -2839.125554   \n",
       "3  2    0.3     3  107264 -11806.609   0.745833   0.780124 -2820.854597   \n",
       "4  2    0.3     4  107265 -11693.336   0.754167   0.781428 -2862.833337   \n",
       "\n",
       "   acc_test  auc_test  \n",
       "0  0.750000  0.745423  \n",
       "1  0.750000  0.741167  \n",
       "2  0.700000  0.744381  \n",
       "3  0.783333  0.760038  \n",
       "4  0.750000  0.754834  "
      ]
     },
     "execution_count": 2,
     "metadata": {},
     "output_type": "execute_result"
    }
   ],
   "source": [
    "# import results of cross-validation procedure\n",
    "df = pd.read_csv('../data/output/5-fold_cv/adj_results.csv')\n",
    "print(f'Shape: {df.shape}')\n",
    "df.head()"
   ]
  },
  {
   "cell_type": "code",
   "execution_count": 3,
   "metadata": {},
   "outputs": [
    {
     "data": {
      "text/html": [
       "<div>\n",
       "<style scoped>\n",
       "    .dataframe tbody tr th:only-of-type {\n",
       "        vertical-align: middle;\n",
       "    }\n",
       "\n",
       "    .dataframe tbody tr th {\n",
       "        vertical-align: top;\n",
       "    }\n",
       "\n",
       "    .dataframe thead th {\n",
       "        text-align: right;\n",
       "    }\n",
       "</style>\n",
       "<table border=\"1\" class=\"dataframe\">\n",
       "  <thead>\n",
       "    <tr style=\"text-align: right;\">\n",
       "      <th></th>\n",
       "      <th></th>\n",
       "      <th>logL</th>\n",
       "      <th>acc_train</th>\n",
       "      <th>auc_train</th>\n",
       "      <th>logL_test</th>\n",
       "      <th>acc_test</th>\n",
       "      <th>auc_test</th>\n",
       "    </tr>\n",
       "    <tr>\n",
       "      <th>C</th>\n",
       "      <th>gamma</th>\n",
       "      <th></th>\n",
       "      <th></th>\n",
       "      <th></th>\n",
       "      <th></th>\n",
       "      <th></th>\n",
       "      <th></th>\n",
       "    </tr>\n",
       "  </thead>\n",
       "  <tbody>\n",
       "    <tr>\n",
       "      <td rowspan=\"3\" valign=\"top\">2</td>\n",
       "      <td>0.3</td>\n",
       "      <td>-11764.5262</td>\n",
       "      <td>0.756667</td>\n",
       "      <td>0.779912</td>\n",
       "      <td>-2848.857043</td>\n",
       "      <td>0.746667</td>\n",
       "      <td>0.749169</td>\n",
       "    </tr>\n",
       "    <tr>\n",
       "      <td>0.5</td>\n",
       "      <td>-8475.1250</td>\n",
       "      <td>0.754167</td>\n",
       "      <td>0.775542</td>\n",
       "      <td>-2063.974595</td>\n",
       "      <td>0.743333</td>\n",
       "      <td>0.743899</td>\n",
       "    </tr>\n",
       "    <tr>\n",
       "      <td>0.7</td>\n",
       "      <td>-5381.0418</td>\n",
       "      <td>0.692500</td>\n",
       "      <td>0.701420</td>\n",
       "      <td>-1340.051501</td>\n",
       "      <td>0.530000</td>\n",
       "      <td>0.665423</td>\n",
       "    </tr>\n",
       "    <tr>\n",
       "      <td rowspan=\"3\" valign=\"top\">5</td>\n",
       "      <td>0.3</td>\n",
       "      <td>-11232.3572</td>\n",
       "      <td>0.775833</td>\n",
       "      <td>0.835923</td>\n",
       "      <td>-2870.888724</td>\n",
       "      <td>0.693333</td>\n",
       "      <td>0.709993</td>\n",
       "    </tr>\n",
       "    <tr>\n",
       "      <td>0.5</td>\n",
       "      <td>-8074.1944</td>\n",
       "      <td>0.799167</td>\n",
       "      <td>0.830755</td>\n",
       "      <td>-2034.522467</td>\n",
       "      <td>0.716667</td>\n",
       "      <td>0.721670</td>\n",
       "    </tr>\n",
       "    <tr>\n",
       "      <td>0.7</td>\n",
       "      <td>-4905.8972</td>\n",
       "      <td>0.850833</td>\n",
       "      <td>0.820216</td>\n",
       "      <td>-1215.587331</td>\n",
       "      <td>0.713333</td>\n",
       "      <td>0.721202</td>\n",
       "    </tr>\n",
       "    <tr>\n",
       "      <td rowspan=\"3\" valign=\"top\">8</td>\n",
       "      <td>0.3</td>\n",
       "      <td>-10924.5182</td>\n",
       "      <td>0.765833</td>\n",
       "      <td>0.858745</td>\n",
       "      <td>-2946.419955</td>\n",
       "      <td>0.706667</td>\n",
       "      <td>0.689207</td>\n",
       "    </tr>\n",
       "    <tr>\n",
       "      <td>0.5</td>\n",
       "      <td>-7892.3618</td>\n",
       "      <td>0.790000</td>\n",
       "      <td>0.852286</td>\n",
       "      <td>-2038.638973</td>\n",
       "      <td>0.730000</td>\n",
       "      <td>0.699279</td>\n",
       "    </tr>\n",
       "    <tr>\n",
       "      <td>0.7</td>\n",
       "      <td>-4775.3138</td>\n",
       "      <td>0.885833</td>\n",
       "      <td>0.848740</td>\n",
       "      <td>-1201.320993</td>\n",
       "      <td>0.653333</td>\n",
       "      <td>0.701805</td>\n",
       "    </tr>\n",
       "  </tbody>\n",
       "</table>\n",
       "</div>"
      ],
      "text/plain": [
       "               logL  acc_train  auc_train    logL_test  acc_test  auc_test\n",
       "C gamma                                                                   \n",
       "2 0.3   -11764.5262   0.756667   0.779912 -2848.857043  0.746667  0.749169\n",
       "  0.5    -8475.1250   0.754167   0.775542 -2063.974595  0.743333  0.743899\n",
       "  0.7    -5381.0418   0.692500   0.701420 -1340.051501  0.530000  0.665423\n",
       "5 0.3   -11232.3572   0.775833   0.835923 -2870.888724  0.693333  0.709993\n",
       "  0.5    -8074.1944   0.799167   0.830755 -2034.522467  0.716667  0.721670\n",
       "  0.7    -4905.8972   0.850833   0.820216 -1215.587331  0.713333  0.721202\n",
       "8 0.3   -10924.5182   0.765833   0.858745 -2946.419955  0.706667  0.689207\n",
       "  0.5    -7892.3618   0.790000   0.852286 -2038.638973  0.730000  0.699279\n",
       "  0.7    -4775.3138   0.885833   0.848740 -1201.320993  0.653333  0.701805"
      ]
     },
     "execution_count": 3,
     "metadata": {},
     "output_type": "execute_result"
    }
   ],
   "source": [
    "# group the results for each pair of (C, gamma), and consider the mean over the K-folds \n",
    "groups = df.groupby(by=['C','gamma'])\n",
    "groups.mean().iloc[:, 2:]"
   ]
  },
  {
   "cell_type": "code",
   "execution_count": 4,
   "metadata": {},
   "outputs": [
    {
     "data": {
      "image/png": "[encoded data removed]",
      "text/plain": [
       "<Figure size 432x288 with 1 Axes>"
      ]
     },
     "metadata": {
      "needs_background": "light"
     },
     "output_type": "display_data"
    },
    {
     "data": {
      "image/png": "[encoded data removed]",
      "text/plain": [
       "<Figure size 432x288 with 1 Axes>"
      ]
     },
     "metadata": {
      "needs_background": "light"
     },
     "output_type": "display_data"
    },
    {
     "data": {
      "image/png": "[encoded data removed]",
      "text/plain": [
       "<Figure size 432x288 with 1 Axes>"
      ]
     },
     "metadata": {
      "needs_background": "light"
     },
     "output_type": "display_data"
    }
   ],
   "source": [
    "# plot the results (accuracy and auc of the test set) for each number of communities C\n",
    "label_legend = {'acc_test': 'Accuracy (attribute prediction)', 'auc_test':'AUC (link prediction)'}\n",
    "colors = {'acc_test':'blue','auc_test':'orange'}\n",
    "mins = min(np.min(groups.mean()['acc_test']), np.min(groups.mean()['auc_test']))\n",
    "maxs = max(np.max(groups.mean()['acc_test']), np.max(groups.mean()['auc_test']))\n",
    "\n",
    "for C in np.unique(df.C):\n",
    "    fig = plt.figure()\n",
    "    for measure in ['acc_test', 'auc_test']:\n",
    "        x = np.unique(df.gamma)\n",
    "        y = groups.mean().loc[C][measure]\n",
    "        plt.plot(x, y, marker='o', label=label_legend[measure])\n",
    "        plt.axhline(y = np.max(groups.mean()[measure]), color=colors[measure], linestyle='--')      \n",
    "    \n",
    "    plt.title('C = {0}'.format(C), fontweight=\"bold\", size=13)\n",
    "    plt.xlabel('$\\gamma$', size = 14)\n",
    "    plt.ylim([mins-.05, maxs+.05])\n",
    "    plt.ylabel('value', size = 13)\n",
    "    plt.legend(loc='lower left', fontsize=11)"
   ]
  },
  {
   "cell_type": "markdown",
   "metadata": {},
   "source": [
    "Our model has two hyperparameters, the scaling parameter $\\gamma$ and the number of communities $C$. We estimate them by using 5-fold cross-validation along with grid search to range across their possible values. We then select the combination $(\\hat{C},\\hat{\\gamma})$ that returns the best average performance over the cross-validation runs. Standard cross-validation considers performance in terms of a particular metric. However, here we have two possible ones which are qualitatively different, i.e. AUC and accuracy. Depending on the task at hand, one can define performance as a combination of the two, bearing in mind that the values of $(\\hat{C},\\hat{\\gamma})$ at the maximum of either of them might not coincide. Here we would select $(\\hat{C},\\hat{\\gamma})$ as the values are jointly closer to both the maximum values (dashed lines).\n",
    "\n",
    "The hyperparameters selection would benefit from an automatized routine, to be incorporated as a pre-step in the main algorithm."
   ]
  }
 ],
 "metadata": {
  "kernelspec": {
   "display_name": "Python 3",
   "language": "python",
   "name": "python3"
  },
  "language_info": {
   "codemirror_mode": {
    "name": "ipython",
    "version": 3
   },
   "file_extension": ".py",
   "mimetype": "text/x-python",
   "name": "python",
   "nbconvert_exporter": "python",
   "pygments_lexer": "ipython3",
   "version": "3.7.4"
  }
 },
 "nbformat": 4,
 "nbformat_minor": 2
}
